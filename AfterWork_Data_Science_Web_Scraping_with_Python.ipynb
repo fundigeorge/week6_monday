{
  "nbformat": 4,
  "nbformat_minor": 0,
  "metadata": {
    "colab": {
      "provenance": [],
      "toc_visible": true
    },
    "kernelspec": {
      "name": "python3",
      "display_name": "Python 3"
    }
  },
  "cells": [
    {
      "cell_type": "markdown",
      "metadata": {
        "id": "7i5A-UY4Yruf"
      },
      "source": [
        "<font color='#2F4F4F'>To use this notebook on Colaboratory, you will need to make a copy of it. Go to File > Save a Copy in Drive. You can then use the new copy that will appear in the new tab.</font>\n"
      ]
    },
    {
      "cell_type": "markdown",
      "metadata": {
        "id": "0rOdcI2Nzhky"
      },
      "source": [
        "# <font color='#2F4F4F'>AfterWork Data Science: Web Scraping with Python</font>"
      ]
    },
    {
      "cell_type": "markdown",
      "metadata": {
        "id": "Tcso2rJCNAGq"
      },
      "source": [
        "## <font color='#2F4F4F'>Prerequisites</font>"
      ]
    },
    {
      "cell_type": "code",
      "metadata": {
        "id": "QSHljMZTNCRI"
      },
      "source": [
        "# We first import the required libraries\n",
        "# ---\n",
        "#\n",
        "import pandas as pd             # library for data manupation\n",
        "import requests                 # library for fetching a web page \n",
        "from bs4 import BeautifulSoup   # library for extrating contents from a webpage "
      ],
      "execution_count": 114,
      "outputs": []
    },
    {
      "cell_type": "markdown",
      "metadata": {
        "id": "CRmt1rRHgZRG"
      },
      "source": [
        "## <font color='#2F4F4F'>Step 1: Obtaining our Data</font>"
      ]
    },
    {
      "cell_type": "code",
      "metadata": {
        "id": "cM5TKD-P1h7Z",
        "colab": {
          "base_uri": "https://localhost:8080/"
        },
        "outputId": "4b8f4e62-45ae-4a78-a7ce-9e647144da70"
      },
      "source": [
        "# PigiaMe: https://www.pigiame.co.ke/it-software-jobs\n",
        "# ---\n",
        "#\n",
        "pigia_me = requests.get('https://www.pigiame.co.ke/it-software-jobs')\n",
        "pigia_me"
      ],
      "execution_count": 81,
      "outputs": [
        {
          "output_type": "execute_result",
          "data": {
            "text/plain": [
              "<Response [200]>"
            ]
          },
          "metadata": {},
          "execution_count": 81
        }
      ]
    },
    {
      "cell_type": "code",
      "metadata": {
        "id": "OfUvfxrD1nQC",
        "colab": {
          "base_uri": "https://localhost:8080/"
        },
        "outputId": "0f59971d-67d6-4529-d28d-0817ac6e85e7"
      },
      "source": [
        "# MyJobMag: https://www.myjobmag.co.ke/jobs-by-field/information-technology\n",
        "# ---\n",
        "#\n",
        "#YOUR CODE GOES HERE\n",
        "myjob_mag = requests.get('https://www.myjobmag.co.ke/jobs-by-field/information-technology')\n",
        "myjob_mag"
      ],
      "execution_count": 82,
      "outputs": [
        {
          "output_type": "execute_result",
          "data": {
            "text/plain": [
              "<Response [200]>"
            ]
          },
          "metadata": {},
          "execution_count": 82
        }
      ]
    },
    {
      "cell_type": "code",
      "metadata": {
        "id": "psWrYhRUQDJC",
        "colab": {
          "base_uri": "https://localhost:8080/"
        },
        "outputId": "1a4780aa-ac2d-4ea6-b475-b0cc76785f62"
      },
      "source": [
        "# KenyanJob: https://www.kenyajob.com/job-vacancies-search-kenya?f%5B0%5D=im_field_offre_secteur%3A133\n",
        "# ---\n",
        "#\n",
        "#YOUR CODE GOES HERE\n",
        "kenyan_job = requests.get('https://www.kenyajob.com/job-vacancies-search-kenya?f%5B0%5D=im_field_offre_secteur%3A133')\n",
        "kenyan_job"
      ],
      "execution_count": 83,
      "outputs": [
        {
          "output_type": "execute_result",
          "data": {
            "text/plain": [
              "<Response [200]>"
            ]
          },
          "metadata": {},
          "execution_count": 83
        }
      ]
    },
    {
      "cell_type": "markdown",
      "metadata": {
        "id": "h7iRb8U8hHNw"
      },
      "source": [
        "## <font color='#2F4F4F'>Step 2: Parsing</font>"
      ]
    },
    {
      "cell_type": "code",
      "metadata": {
        "id": "AXWSK1kD2oeN"
      },
      "source": [
        "# Parsing our document: pigia_me\n",
        "# ---\n",
        "# \n",
        "#YOUR CODE GOES HERE\n",
        "pigia_me_soup = BeautifulSoup(pigia_me.text, 'html.parser')\n"
      ],
      "execution_count": 84,
      "outputs": []
    },
    {
      "cell_type": "code",
      "metadata": {
        "id": "lrH9mgR82pzg"
      },
      "source": [
        "# Parsing our document: my_job_mag\n",
        "# ---\n",
        "#  \n",
        "#YOUR CODE GOES HERE\n",
        "myjob_mag_soup = BeautifulSoup(myjob_mag.text, 'html.parser')\n"
      ],
      "execution_count": 85,
      "outputs": []
    },
    {
      "cell_type": "code",
      "metadata": {
        "id": "O0x-Wz03QP5O"
      },
      "source": [
        "# Parsing our document: kenyan_job\n",
        "# ---\n",
        "#YOUR CODE GOES HERE\n",
        "kenyan_job_soup = BeautifulSoup(kenyan_job.text, 'html.parser')\n"
      ],
      "execution_count": 86,
      "outputs": []
    },
    {
      "cell_type": "markdown",
      "metadata": {
        "id": "_OxuOAIXhPl5"
      },
      "source": [
        "## <font color='#2F4F4F'>Step 3: Extracting Required Elements</font>"
      ]
    },
    {
      "cell_type": "code",
      "metadata": {
        "id": "e2p147_LICKn",
        "colab": {
          "base_uri": "https://localhost:8080/"
        },
        "outputId": "8dbdd0fa-acf1-486e-a88f-d5cecd3eb7ad"
      },
      "source": [
        "# 1. Extracting job titles and links: pigia me\n",
        "# ---\n",
        "# \n",
        "#YOUR CODE GOES HERE\n",
        "#get the blocks with job listing\n",
        "search = pigia_me_soup.find('div', {'class':'search__content'})\n",
        "listings_cards = search.find('div', {'class':'listings-cards'})\n",
        "listings_cards = listings_cards.find('div', {'class':'listings-cards__list'})\n",
        "\n",
        "#job urls and job title\n",
        "pigiame_job_urls = []\n",
        "pigiame_job_title = []\n",
        "#get the jobs listing in listings-cards__list block\n",
        "for job in listings_cards.find_all('div', {'class':'listings-cards__list-item'}):\n",
        "  job_urls = job.find('a', {'class':'listing-card__inner'}).get('href')\n",
        "  job_title = job.find('div', {'class':'listing-card__header__title'}).get_text().strip()\n",
        "\n",
        "  #append each urls and title on the list\n",
        "  pigiame_job_urls.append(job_urls)\n",
        "  pigiame_job_title.append(job_title)\n",
        "\n",
        "pigiame_job_urls\n",
        "pigiame_job_title"
      ],
      "execution_count": 110,
      "outputs": [
        {
          "output_type": "execute_result",
          "data": {
            "text/plain": [
              "['Bioinformatic and Software Developer',\n",
              " 'IT Sales - Cybersecurity & Cloud',\n",
              " 'Executive, Support & Services',\n",
              " 'Data Engineer',\n",
              " 'Software Development Trainer',\n",
              " 'Oracle Database Administrator',\n",
              " 'UI/UX & Frontend Developer – Limuru, Kenya',\n",
              " 'IT Sales - Cybersecurity & Cloud',\n",
              " 'Wordpress and Shopify Web Designer',\n",
              " 'Entry level Software Developer']"
            ]
          },
          "metadata": {},
          "execution_count": 110
        }
      ]
    },
    {
      "cell_type": "code",
      "source": [
        "# 2. Extracting job titles: my_job_mag\n",
        "# ---\n",
        "# \n",
        "#get the block with job listing\n",
        "job_list = myjob_mag_soup.find('div', {'class':'content-wrap2'})\n",
        "job_list = job_list.find('div', {'class':'left-section'})\n",
        "job_list = job_list.find('ul', {'class':'job-list'})\n",
        "\n",
        "myjobmag_job_urls = []\n",
        "myjobmag_job_title = []\n",
        "\n",
        "#get job title and url for each job in job listing\n",
        "for job in job_list.find_all('li', {'class':'job-list-li'}):  \n",
        "  job_info = job.find('li', {'class':'job-info'})\n",
        "\n",
        "  try:\n",
        "    job_title = job_info.find('li', {'class':'mag-b'}).find('h2').find('a').get_text()\n",
        "    job_urls = job_info.find('li', {'class':'mag-b'}).find('h2').find('a').get('href') \n",
        "    job_urls = \"https://www.myjobmag.co.ke\" + job_urls\n",
        "    # append the job title and url to list\n",
        "    myjobmag_job_title.append(job_title)\n",
        "    myjobmag_job_urls.append(job_urls)    \n",
        "  except AttributeError: \n",
        "    continue\n",
        "\n",
        " \n",
        "\n",
        "print(myjobmag_job_title[-1])\n",
        "print(myjobmag_job_urls[-1])\n"
      ],
      "metadata": {
        "colab": {
          "base_uri": "https://localhost:8080/"
        },
        "id": "fELzH6yipumz",
        "outputId": "23fca910-2f90-45af-9b63-125f5d741e89"
      },
      "execution_count": 109,
      "outputs": [
        {
          "output_type": "stream",
          "name": "stdout",
          "text": [
            "Linux Server Software Engineering Manager at Canonical\n",
            "https://www.myjobmag.co.ke/job/linux-server-software-engineering-manager-canonical-4\n"
          ]
        }
      ]
    },
    {
      "cell_type": "code",
      "metadata": {
        "id": "I0fQKn63QV0R",
        "colab": {
          "base_uri": "https://localhost:8080/"
        },
        "outputId": "ec43a35f-0732-4aef-f497-9b80aac356d6"
      },
      "source": [
        "# 3. Extracting job titles: kenya_job\n",
        "# ---\n",
        "#\n",
        "#block with job describution\n",
        "content = kenyan_job_soup.find('section', {'class':'ba'})\n",
        "content = content.find('div', {'class':'content-inner inner'})\n",
        "content = content.find('div', {'class':'search-results jobsearch-results'})\n",
        "\n",
        "kenyan_job_urls = []\n",
        "kenyan_job_title = []\n",
        "\n",
        "for job in content.find_all('div', {'job-description-wrapper'}):\n",
        "  job_info = job.find('div', {'class':'col-lg-5 col-md-5 col-sm-5 col-xs-12 job-title'})\n",
        "  job_title = job_info.find('a').get_text()\n",
        "  job_urls = 'https://www.kenyajob.com' + job_info.find('a').get('href')\n",
        "\n",
        "  # append the job title and url to list\n",
        "  kenyan_job_title.append(job_title)\n",
        "  kenyan_job_urls.append(job_urls)\n",
        "\n",
        "print(kenyan_job_title)\n",
        "print(kenyan_job_urls)\n",
        "\n"
      ],
      "execution_count": 111,
      "outputs": [
        {
          "output_type": "stream",
          "name": "stdout",
          "text": [
            "['JAVA EE / JAVA 8 Developer with SQL Skills', 'Senior Freelance Web Designer', 'Accountant/Administrator', 'CCTV and Fire Alarms Systems Technician', 'CCTV and Fire Alarms Systems Technician', 'Information Technology Sales Specialist', 'AWS Cloud Architect (M/F)', 'AWS Solutions Architect (M/F)', 'AZURE Solutions Architect (M/F)', 'Cloud Architect (M/F)', 'Cloud Computing and Virtualization Engineer (M/F)', 'Cloud Engineer (M/F)', 'Cloud Microservices Architect (M/F)', 'Cloud System Administrator (M/F)', 'Cloud System Integrator (M/F)', 'Cyber Security Engineer (M/F)', 'DATASTAGE Architect (M/F)', 'GENESYS Architect (M/F)', 'Network Architect (M/F)', 'ANGULAR Developer (M/F)', 'DevOps Engineer (M/F)', 'DOTNET Developer (M/F)', 'IOS Developer (M/F)', 'JAVA Developer (M/F)', 'JAVA JEE Developer (M/F)']\n",
            "['https://www.kenyajob.com/job-vacancies-kenya/java-ee-java-8-developer-sql-skills-130458', 'https://www.kenyajob.com/job-vacancies-kenya/senior-freelance-web-designer-130459', 'https://www.kenyajob.com/job-vacancies-kenya/accountantadministrator-126803', 'https://www.kenyajob.com/job-vacancies-kenya/cctv-fire-alarms-systems-technician-127106', 'https://www.kenyajob.com/job-vacancies-kenya/cctv-fire-alarms-systems-technician-127107', 'https://www.kenyajob.com/job-vacancies-kenya/information-technology-sales-specialist-129253', 'https://www.kenyajob.com/job-vacancies-kenya/aws-cloud-architect-mf-129511', 'https://www.kenyajob.com/job-vacancies-kenya/aws-solutions-architect-mf-129512', 'https://www.kenyajob.com/job-vacancies-kenya/azure-solutions-architect-mf-129513', 'https://www.kenyajob.com/job-vacancies-kenya/cloud-architect-mf-129514', 'https://www.kenyajob.com/job-vacancies-kenya/cloud-computing-virtualization-engineer-mf-129515', 'https://www.kenyajob.com/job-vacancies-kenya/cloud-engineer-mf-129516', 'https://www.kenyajob.com/job-vacancies-kenya/cloud-microservices-architect-mf-129517', 'https://www.kenyajob.com/job-vacancies-kenya/cloud-system-administrator-mf-129518', 'https://www.kenyajob.com/job-vacancies-kenya/cloud-system-integrator-mf-129519', 'https://www.kenyajob.com/job-vacancies-kenya/cyber-security-engineer-mf-129520', 'https://www.kenyajob.com/job-vacancies-kenya/datastage-architect-mf-129521', 'https://www.kenyajob.com/job-vacancies-kenya/genesys-architect-mf-129522', 'https://www.kenyajob.com/job-vacancies-kenya/network-architect-mf-129523', 'https://www.kenyajob.com/job-vacancies-kenya/angular-developer-mf-129524', 'https://www.kenyajob.com/job-vacancies-kenya/devops-engineer-mf-129525', 'https://www.kenyajob.com/job-vacancies-kenya/dotnet-developer-mf-129526', 'https://www.kenyajob.com/job-vacancies-kenya/ios-developer-mf-129527', 'https://www.kenyajob.com/job-vacancies-kenya/java-developer-mf-129528', 'https://www.kenyajob.com/job-vacancies-kenya/java-jee-developer-mf-129529']\n"
          ]
        }
      ]
    },
    {
      "cell_type": "markdown",
      "metadata": {
        "id": "7ePXABAihaKn"
      },
      "source": [
        "## <font color='#2F4F4F'>Step 4: Saving our Data</font>"
      ]
    },
    {
      "cell_type": "code",
      "metadata": {
        "id": "fsG9pQXk5f8y",
        "colab": {
          "base_uri": "https://localhost:8080/",
          "height": 206
        },
        "outputId": "752071e8-4c08-4f5b-9cad-d1e2246dbc25"
      },
      "source": [
        "# Saving the scraped contents in a dataframe and preview our data\n",
        "# ---\n",
        "#\n",
        "#\n",
        "#concatenate all the jobs from the 3 sites\n",
        "all_job_title= pigiame_job_title + myjobmag_job_title + kenyan_job_title\n",
        "all_job_urls= pigiame_job_urls + myjobmag_job_urls + kenyan_job_urls\n",
        "\n",
        "#save the jobs in a dataframe\n",
        "it_job = pd.DataFrame({'title':all_job_title, 'urls':all_job_urls})\n",
        "it_job.tail()"
      ],
      "execution_count": 117,
      "outputs": [
        {
          "output_type": "execute_result",
          "data": {
            "text/plain": [
              "                       title  \\\n",
              "48     DevOps Engineer (M/F)   \n",
              "49    DOTNET Developer (M/F)   \n",
              "50       IOS Developer (M/F)   \n",
              "51      JAVA Developer (M/F)   \n",
              "52  JAVA JEE Developer (M/F)   \n",
              "\n",
              "                                                 urls  \n",
              "48  https://www.kenyajob.com/job-vacancies-kenya/d...  \n",
              "49  https://www.kenyajob.com/job-vacancies-kenya/d...  \n",
              "50  https://www.kenyajob.com/job-vacancies-kenya/i...  \n",
              "51  https://www.kenyajob.com/job-vacancies-kenya/j...  \n",
              "52  https://www.kenyajob.com/job-vacancies-kenya/j...  "
            ],
            "text/html": [
              "\n",
              "  <div id=\"df-bbd125cf-f2ea-4dd8-8aa2-15da6cf603a1\">\n",
              "    <div class=\"colab-df-container\">\n",
              "      <div>\n",
              "<style scoped>\n",
              "    .dataframe tbody tr th:only-of-type {\n",
              "        vertical-align: middle;\n",
              "    }\n",
              "\n",
              "    .dataframe tbody tr th {\n",
              "        vertical-align: top;\n",
              "    }\n",
              "\n",
              "    .dataframe thead th {\n",
              "        text-align: right;\n",
              "    }\n",
              "</style>\n",
              "<table border=\"1\" class=\"dataframe\">\n",
              "  <thead>\n",
              "    <tr style=\"text-align: right;\">\n",
              "      <th></th>\n",
              "      <th>title</th>\n",
              "      <th>urls</th>\n",
              "    </tr>\n",
              "  </thead>\n",
              "  <tbody>\n",
              "    <tr>\n",
              "      <th>48</th>\n",
              "      <td>DevOps Engineer (M/F)</td>\n",
              "      <td>https://www.kenyajob.com/job-vacancies-kenya/d...</td>\n",
              "    </tr>\n",
              "    <tr>\n",
              "      <th>49</th>\n",
              "      <td>DOTNET Developer (M/F)</td>\n",
              "      <td>https://www.kenyajob.com/job-vacancies-kenya/d...</td>\n",
              "    </tr>\n",
              "    <tr>\n",
              "      <th>50</th>\n",
              "      <td>IOS Developer (M/F)</td>\n",
              "      <td>https://www.kenyajob.com/job-vacancies-kenya/i...</td>\n",
              "    </tr>\n",
              "    <tr>\n",
              "      <th>51</th>\n",
              "      <td>JAVA Developer (M/F)</td>\n",
              "      <td>https://www.kenyajob.com/job-vacancies-kenya/j...</td>\n",
              "    </tr>\n",
              "    <tr>\n",
              "      <th>52</th>\n",
              "      <td>JAVA JEE Developer (M/F)</td>\n",
              "      <td>https://www.kenyajob.com/job-vacancies-kenya/j...</td>\n",
              "    </tr>\n",
              "  </tbody>\n",
              "</table>\n",
              "</div>\n",
              "      <button class=\"colab-df-convert\" onclick=\"convertToInteractive('df-bbd125cf-f2ea-4dd8-8aa2-15da6cf603a1')\"\n",
              "              title=\"Convert this dataframe to an interactive table.\"\n",
              "              style=\"display:none;\">\n",
              "        \n",
              "  <svg xmlns=\"http://www.w3.org/2000/svg\" height=\"24px\"viewBox=\"0 0 24 24\"\n",
              "       width=\"24px\">\n",
              "    <path d=\"M0 0h24v24H0V0z\" fill=\"none\"/>\n",
              "    <path d=\"M18.56 5.44l.94 2.06.94-2.06 2.06-.94-2.06-.94-.94-2.06-.94 2.06-2.06.94zm-11 1L8.5 8.5l.94-2.06 2.06-.94-2.06-.94L8.5 2.5l-.94 2.06-2.06.94zm10 10l.94 2.06.94-2.06 2.06-.94-2.06-.94-.94-2.06-.94 2.06-2.06.94z\"/><path d=\"M17.41 7.96l-1.37-1.37c-.4-.4-.92-.59-1.43-.59-.52 0-1.04.2-1.43.59L10.3 9.45l-7.72 7.72c-.78.78-.78 2.05 0 2.83L4 21.41c.39.39.9.59 1.41.59.51 0 1.02-.2 1.41-.59l7.78-7.78 2.81-2.81c.8-.78.8-2.07 0-2.86zM5.41 20L4 18.59l7.72-7.72 1.47 1.35L5.41 20z\"/>\n",
              "  </svg>\n",
              "      </button>\n",
              "      \n",
              "  <style>\n",
              "    .colab-df-container {\n",
              "      display:flex;\n",
              "      flex-wrap:wrap;\n",
              "      gap: 12px;\n",
              "    }\n",
              "\n",
              "    .colab-df-convert {\n",
              "      background-color: #E8F0FE;\n",
              "      border: none;\n",
              "      border-radius: 50%;\n",
              "      cursor: pointer;\n",
              "      display: none;\n",
              "      fill: #1967D2;\n",
              "      height: 32px;\n",
              "      padding: 0 0 0 0;\n",
              "      width: 32px;\n",
              "    }\n",
              "\n",
              "    .colab-df-convert:hover {\n",
              "      background-color: #E2EBFA;\n",
              "      box-shadow: 0px 1px 2px rgba(60, 64, 67, 0.3), 0px 1px 3px 1px rgba(60, 64, 67, 0.15);\n",
              "      fill: #174EA6;\n",
              "    }\n",
              "\n",
              "    [theme=dark] .colab-df-convert {\n",
              "      background-color: #3B4455;\n",
              "      fill: #D2E3FC;\n",
              "    }\n",
              "\n",
              "    [theme=dark] .colab-df-convert:hover {\n",
              "      background-color: #434B5C;\n",
              "      box-shadow: 0px 1px 3px 1px rgba(0, 0, 0, 0.15);\n",
              "      filter: drop-shadow(0px 1px 2px rgba(0, 0, 0, 0.3));\n",
              "      fill: #FFFFFF;\n",
              "    }\n",
              "  </style>\n",
              "\n",
              "      <script>\n",
              "        const buttonEl =\n",
              "          document.querySelector('#df-bbd125cf-f2ea-4dd8-8aa2-15da6cf603a1 button.colab-df-convert');\n",
              "        buttonEl.style.display =\n",
              "          google.colab.kernel.accessAllowed ? 'block' : 'none';\n",
              "\n",
              "        async function convertToInteractive(key) {\n",
              "          const element = document.querySelector('#df-bbd125cf-f2ea-4dd8-8aa2-15da6cf603a1');\n",
              "          const dataTable =\n",
              "            await google.colab.kernel.invokeFunction('convertToInteractive',\n",
              "                                                     [key], {});\n",
              "          if (!dataTable) return;\n",
              "\n",
              "          const docLinkHtml = 'Like what you see? Visit the ' +\n",
              "            '<a target=\"_blank\" href=https://colab.research.google.com/notebooks/data_table.ipynb>data table notebook</a>'\n",
              "            + ' to learn more about interactive tables.';\n",
              "          element.innerHTML = '';\n",
              "          dataTable['output_type'] = 'display_data';\n",
              "          await google.colab.output.renderOutput(dataTable, element);\n",
              "          const docLink = document.createElement('div');\n",
              "          docLink.innerHTML = docLinkHtml;\n",
              "          element.appendChild(docLink);\n",
              "        }\n",
              "      </script>\n",
              "    </div>\n",
              "  </div>\n",
              "  "
            ]
          },
          "metadata": {},
          "execution_count": 117
        }
      ]
    }
  ]
}